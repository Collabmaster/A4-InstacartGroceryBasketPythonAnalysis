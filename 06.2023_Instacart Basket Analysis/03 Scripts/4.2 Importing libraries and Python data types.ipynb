{
 "cells": [
  {
   "cell_type": "markdown",
   "id": "4f64fafe",
   "metadata": {},
   "source": [
    "# 01. Importing libraries"
   ]
  },
  {
   "cell_type": "code",
   "execution_count": 3,
   "id": "ccd2040a",
   "metadata": {},
   "outputs": [],
   "source": [
    "# Import libraries\n",
    "import pandas as pd\n",
    "import numpy as np\n",
    "import os"
   ]
  },
  {
   "cell_type": "markdown",
   "id": "c38bd4be",
   "metadata": {},
   "source": [
    "# 02. Data Types"
   ]
  },
  {
   "cell_type": "markdown",
   "id": "a8675aed",
   "metadata": {},
   "source": [
    "## 01. Integers"
   ]
  },
  {
   "cell_type": "code",
   "execution_count": 35,
   "id": "4a482bec",
   "metadata": {},
   "outputs": [],
   "source": [
    "x = 40"
   ]
  },
  {
   "cell_type": "code",
   "execution_count": 36,
   "id": "e432ee0b",
   "metadata": {},
   "outputs": [],
   "source": [
    "y = 20"
   ]
  },
  {
   "cell_type": "code",
   "execution_count": 37,
   "id": "dbd3d39e",
   "metadata": {},
   "outputs": [],
   "source": [
    "x = x+y"
   ]
  },
  {
   "cell_type": "code",
   "execution_count": 38,
   "id": "48dca73f",
   "metadata": {},
   "outputs": [
    {
     "name": "stdout",
     "output_type": "stream",
     "text": [
      "60\n"
     ]
    }
   ],
   "source": [
    "print(x)"
   ]
  },
  {
   "cell_type": "code",
   "execution_count": 39,
   "id": "4de857f1",
   "metadata": {},
   "outputs": [],
   "source": [
    "z = 40"
   ]
  },
  {
   "cell_type": "code",
   "execution_count": 41,
   "id": "f122e691",
   "metadata": {},
   "outputs": [
    {
     "data": {
      "text/plain": [
       "100"
      ]
     },
     "execution_count": 41,
     "metadata": {},
     "output_type": "execute_result"
    }
   ],
   "source": [
    "x + z"
   ]
  },
  {
   "cell_type": "code",
   "execution_count": 42,
   "id": "e42fa3e8",
   "metadata": {},
   "outputs": [
    {
     "data": {
      "text/plain": [
       "100"
      ]
     },
     "execution_count": 42,
     "metadata": {},
     "output_type": "execute_result"
    }
   ],
   "source": [
    "a = 150\n",
    "b = 50\n",
    "a + b - 100"
   ]
  },
  {
   "cell_type": "code",
   "execution_count": 44,
   "id": "6821e652",
   "metadata": {},
   "outputs": [],
   "source": [
    "x = 45\n",
    "y = 55\n",
    "z = x + y"
   ]
  },
  {
   "cell_type": "code",
   "execution_count": 45,
   "id": "df8008b1",
   "metadata": {},
   "outputs": [
    {
     "name": "stdout",
     "output_type": "stream",
     "text": [
      "100\n"
     ]
    }
   ],
   "source": [
    "print(z)"
   ]
  },
  {
   "cell_type": "markdown",
   "id": "680249c8",
   "metadata": {},
   "source": [
    "## 02. floating-point variables"
   ]
  },
  {
   "cell_type": "code",
   "execution_count": 49,
   "id": "38452fb8",
   "metadata": {},
   "outputs": [],
   "source": [
    "e = 35.5"
   ]
  },
  {
   "cell_type": "code",
   "execution_count": 63,
   "id": "43508871",
   "metadata": {},
   "outputs": [],
   "source": [
    "f = 3.6"
   ]
  },
  {
   "cell_type": "code",
   "execution_count": 64,
   "id": "f11884f3",
   "metadata": {},
   "outputs": [
    {
     "data": {
      "text/plain": [
       "9.86111111111111"
      ]
     },
     "execution_count": 64,
     "metadata": {},
     "output_type": "execute_result"
    }
   ],
   "source": [
    "e/f"
   ]
  },
  {
   "cell_type": "markdown",
   "id": "50c7ae48",
   "metadata": {},
   "source": [
    "## 03. string"
   ]
  },
  {
   "cell_type": "code",
   "execution_count": 57,
   "id": "9a38988b",
   "metadata": {},
   "outputs": [],
   "source": [
    "t = 'CareerFoundry,'"
   ]
  },
  {
   "cell_type": "code",
   "execution_count": 58,
   "id": "c8f332a8",
   "metadata": {},
   "outputs": [],
   "source": [
    "u = 'DataAnalytics'"
   ]
  },
  {
   "cell_type": "code",
   "execution_count": 65,
   "id": "c10279ab",
   "metadata": {},
   "outputs": [
    {
     "data": {
      "text/plain": [
       "'CareerFoundry,DataAnalytics'"
      ]
     },
     "execution_count": 65,
     "metadata": {},
     "output_type": "execute_result"
    }
   ],
   "source": [
    "t + u"
   ]
  },
  {
   "cell_type": "code",
   "execution_count": 66,
   "id": "ae02b2ac",
   "metadata": {},
   "outputs": [],
   "source": [
    "g = 'I am learning python,'"
   ]
  },
  {
   "cell_type": "code",
   "execution_count": 68,
   "id": "32509c53",
   "metadata": {},
   "outputs": [],
   "source": [
    "h = 'I have about a month to complete the course'"
   ]
  },
  {
   "cell_type": "code",
   "execution_count": 69,
   "id": "335e7691",
   "metadata": {},
   "outputs": [
    {
     "data": {
      "text/plain": [
       "'I am learning python,I have about a month to complete the course'"
      ]
     },
     "execution_count": 69,
     "metadata": {},
     "output_type": "execute_result"
    }
   ],
   "source": [
    "g + h"
   ]
  },
  {
   "cell_type": "code",
   "execution_count": 70,
   "id": "0bd8ccb8",
   "metadata": {},
   "outputs": [],
   "source": [
    "l = 'Summer officially starts on the 21st of July,'"
   ]
  },
  {
   "cell_type": "code",
   "execution_count": 71,
   "id": "11afd8c1",
   "metadata": {},
   "outputs": [],
   "source": [
    "m = 'travel and tourism industry will benefit the most from the season'"
   ]
  },
  {
   "cell_type": "code",
   "execution_count": 72,
   "id": "1083427f",
   "metadata": {},
   "outputs": [
    {
     "data": {
      "text/plain": [
       "'Summer officially starts on the 21st of July,travel and tourism industry will benefit the most from the season'"
      ]
     },
     "execution_count": 72,
     "metadata": {},
     "output_type": "execute_result"
    }
   ],
   "source": [
    "l + m"
   ]
  },
  {
   "cell_type": "code",
   "execution_count": 73,
   "id": "3ca8d408",
   "metadata": {},
   "outputs": [
    {
     "data": {
      "text/plain": [
       "'icecreamicecreamicecreamicecreamicecreamicecreamicecreamicecreamicecreamicecreamicecreamicecreamicecreamicecreamicecreamicecreamicecreamicecreamicecreamicecreamicecreamicecreamicecreamicecreamicecreamicecreamicecreamicecreamicecreamicecreamicecreamicecreamicecreamicecreamicecreamicecreamicecreamicecreamicecreamicecreamicecreamicecreamicecreamicecreamicecreamicecreamicecreamicecreamicecreamicecreamicecreamicecreamicecreamicecreamicecreamicecreamicecreamicecreamicecreamicecreamicecreamicecreamicecreamicecreamicecreamicecreamicecreamicecreamicecreamicecreamicecreamicecreamicecreamicecreamicecreamicecreamicecreamicecreamicecreamicecreamicecreamicecreamicecreamicecreamicecreamicecreamicecreamicecreamicecreamicecreamicecreamicecreamicecreamicecreamicecreamicecreamicecreamicecreamicecreamicecream'"
      ]
     },
     "execution_count": 73,
     "metadata": {},
     "output_type": "execute_result"
    }
   ],
   "source": [
    "#to make a string appear 100 times\n",
    "p = 'icecream'\n",
    "p*100"
   ]
  }
 ],
 "metadata": {
  "kernelspec": {
   "display_name": "Python 3 (ipykernel)",
   "language": "python",
   "name": "python3"
  },
  "language_info": {
   "codemirror_mode": {
    "name": "ipython",
    "version": 3
   },
   "file_extension": ".py",
   "mimetype": "text/x-python",
   "name": "python",
   "nbconvert_exporter": "python",
   "pygments_lexer": "ipython3",
   "version": "3.10.9"
  }
 },
 "nbformat": 4,
 "nbformat_minor": 5
}
